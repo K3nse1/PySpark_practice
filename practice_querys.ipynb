{
 "cells": [
  {
   "cell_type": "code",
   "execution_count": 1,
   "metadata": {},
   "outputs": [
    {
     "name": "stderr",
     "output_type": "stream",
     "text": [
      "c:\\Users\\rauls\\AppData\\Local\\Programs\\Python\\Python310\\lib\\site-packages\\pyspark\\pandas\\__init__.py:50: UserWarning: 'PYARROW_IGNORE_TIMEZONE' environment variable was not set. It is required to set this environment variable to '1' in both driver and executor sides if you use pyarrow>=2.0.0. pandas-on-Spark will set it for you but it does not work if there is a Spark context already launched.\n",
      "  warnings.warn(\n"
     ]
    }
   ],
   "source": [
    "import findspark\n",
    "import pyspark.pandas as ps\n",
    "from pyspark.sql import SparkSession\n",
    "from pyspark.sql.types import *\n",
    "from pyspark.sql.functions import sum, col\n",
    "from pyspark import sql\n",
    "import json"
   ]
  },
  {
   "cell_type": "code",
   "execution_count": 2,
   "metadata": {},
   "outputs": [],
   "source": [
    "findspark.init()"
   ]
  },
  {
   "cell_type": "code",
   "execution_count": 3,
   "metadata": {},
   "outputs": [],
   "source": [
    "spark = SparkSession.builder.getOrCreate()"
   ]
  },
  {
   "cell_type": "code",
   "execution_count": 4,
   "metadata": {},
   "outputs": [],
   "source": [
    "with open (\"config.json\", \"r\") as config_file:\n",
    "    config_data = json.load(config_file)\n",
    "\n",
    "path_products = config_data[\"csv_paths\"][\"path_products\"]\n",
    "path_sales = config_data[\"csv_paths\"][\"path_sales\"]\n",
    "path_sellers = config_data[\"csv_paths\"][\"path_sellers\"]"
   ]
  },
  {
   "cell_type": "markdown",
   "metadata": {},
   "source": [
    "1. Lee los tres datasets y muestra 5 registros de todas las columnas"
   ]
  },
  {
   "cell_type": "code",
   "execution_count": 5,
   "metadata": {},
   "outputs": [
    {
     "name": "stdout",
     "output_type": "stream",
     "text": [
      "root\n",
      " |-- product_id: integer (nullable = true)\n",
      " |-- product_name: string (nullable = true)\n",
      " |-- price: integer (nullable = true)\n",
      "\n"
     ]
    }
   ],
   "source": [
    "products_schema = StructType ([\n",
    "    StructField (\"product_id\", IntegerType(), False),\n",
    "    StructField (\"product_name\", StringType(), False),\n",
    "    StructField (\"price\", IntegerType(), False)\n",
    "])\n",
    "products = spark.read.options(header=True,delimiter=\",\").schema(products_schema).csv(path_products)\n",
    "\n",
    "products.printSchema()"
   ]
  },
  {
   "cell_type": "code",
   "execution_count": 6,
   "metadata": {},
   "outputs": [
    {
     "name": "stdout",
     "output_type": "stream",
     "text": [
      "root\n",
      " |-- order_id: integer (nullable = true)\n",
      " |-- product_id: integer (nullable = true)\n",
      " |-- seller_id: integer (nullable = true)\n",
      " |-- date: date (nullable = true)\n",
      " |-- num_pieces_sold: integer (nullable = true)\n",
      " |-- bill_raw_text: string (nullable = true)\n",
      " |-- product_id_num: integer (nullable = true)\n",
      "\n"
     ]
    }
   ],
   "source": [
    "sales_schema = StructType ([\n",
    "    StructField (\"order_id\", IntegerType(), False),\n",
    "    StructField (\"product_id\", IntegerType(), False),\n",
    "    StructField (\"seller_id\", IntegerType(), False),\n",
    "    StructField (\"date\", DateType(), False),\n",
    "    StructField (\"num_pieces_sold\", IntegerType(), False),\n",
    "    StructField (\"bill_raw_text\", StringType(), False),\n",
    "    StructField (\"product_id_num\", IntegerType(), False)\n",
    "])\n",
    "\n",
    "sales = spark.read.options(header=True,delimiter=\",\").schema(sales_schema).csv(path_sales)\n",
    "\n",
    "sales.printSchema()"
   ]
  },
  {
   "cell_type": "code",
   "execution_count": 7,
   "metadata": {},
   "outputs": [
    {
     "name": "stdout",
     "output_type": "stream",
     "text": [
      "root\n",
      " |-- seller_id: integer (nullable = true)\n",
      " |-- seller_name: string (nullable = true)\n",
      " |-- daily_target: integer (nullable = true)\n",
      "\n"
     ]
    }
   ],
   "source": [
    "sellers_schema = StructType ([\n",
    "    StructField (\"seller_id\", IntegerType(), nullable=False),\n",
    "    StructField (\"seller_name\", StringType(), True),\n",
    "    StructField (\"daily_target\", IntegerType(), True)\n",
    "])\n",
    "sellers = spark.read.options(header=True,delimiter=\",\").schema(sellers_schema).csv(path_sellers)\n",
    "\n",
    "sellers.printSchema()"
   ]
  },
  {
   "cell_type": "markdown",
   "metadata": {},
   "source": [
    "### Reads the three datasets and displays 5 records from all columns."
   ]
  },
  {
   "cell_type": "code",
   "execution_count": 8,
   "metadata": {},
   "outputs": [
    {
     "name": "stdout",
     "output_type": "stream",
     "text": [
      "+----------+------------+-----+\n",
      "|product_id|product_name|price|\n",
      "+----------+------------+-----+\n",
      "|         0|   product_0|   22|\n",
      "|         1|   product_1|   30|\n",
      "|         2|   product_2|   91|\n",
      "|         3|   product_3|   37|\n",
      "|         4|   product_4|  145|\n",
      "+----------+------------+-----+\n",
      "only showing top 5 rows\n",
      "\n",
      "+--------+----------+---------+----------+---------------+--------------------+--------------+\n",
      "|order_id|product_id|seller_id|      date|num_pieces_sold|       bill_raw_text|product_id_num|\n",
      "+--------+----------+---------+----------+---------------+--------------------+--------------+\n",
      "| 2998575|     39495|        8|2020-07-09|             69|cbgztjphaqxaolwgd...|         39495|\n",
      "| 3981313|     35340|        9|2020-07-04|             47|nedrhdkrndwhonulx...|         35340|\n",
      "| 3992645|     11870|        6|2020-07-08|             66|pjjfnblolzqdzzxbj...|         11870|\n",
      "| 6475605|      7915|        8|2020-07-03|             12|wmsofzpxwlyhorqwf...|          7915|\n",
      "|12492936|     85210|        3|2020-07-06|             48|yhwycrofhmoetzMul...|         85210|\n",
      "+--------+----------+---------+----------+---------------+--------------------+--------------+\n",
      "only showing top 5 rows\n",
      "\n",
      "+---------+-----------+------------+\n",
      "|seller_id|seller_name|daily_target|\n",
      "+---------+-----------+------------+\n",
      "|        0|   seller_0|     2500000|\n",
      "|        1|   seller_1|      257237|\n",
      "|        2|   seller_2|      754188|\n",
      "|        3|   seller_3|      310462|\n",
      "|        4|   seller_4|     1532808|\n",
      "+---------+-----------+------------+\n",
      "only showing top 5 rows\n",
      "\n"
     ]
    }
   ],
   "source": [
    "products.show(5)\n",
    "sales.show(5)\n",
    "sellers.show(5)"
   ]
  },
  {
   "cell_type": "markdown",
   "metadata": {},
   "source": [
    "### How many products, sales and sellers are there in total?"
   ]
  },
  {
   "cell_type": "markdown",
   "metadata": {},
   "source": [
    "Total of products and sellers is trivial, but in one sale there can be more than one product. With the purpose of counting the total amount of sales, we'll sum the number of pieces sold"
   ]
  },
  {
   "cell_type": "code",
   "execution_count": 9,
   "metadata": {},
   "outputs": [],
   "source": [
    "total_sales = sales.select(sum(sales.num_pieces_sold)).first()[0]"
   ]
  },
  {
   "cell_type": "code",
   "execution_count": 10,
   "metadata": {},
   "outputs": [
    {
     "name": "stdout",
     "output_type": "stream",
     "text": [
      "Products: 100000\n",
      "Sales: 71194\n",
      "Sellers: 10\n"
     ]
    }
   ],
   "source": [
    "print (\"Products:\", products.count())\n",
    "print (\"Sales:\", total_sales)\n",
    "print (\"Sellers:\", sellers.count())"
   ]
  },
  {
   "cell_type": "markdown",
   "metadata": {},
   "source": [
    "### How many products have been sold at least once?"
   ]
  },
  {
   "cell_type": "code",
   "execution_count": 11,
   "metadata": {},
   "outputs": [
    {
     "data": {
      "text/plain": [
       "1376"
      ]
     },
     "execution_count": 11,
     "metadata": {},
     "output_type": "execute_result"
    }
   ],
   "source": [
    "sales.select(\"product_id\").distinct().count()"
   ]
  },
  {
   "cell_type": "markdown",
   "metadata": {},
   "source": [
    "### Which product has been sold in more orders?"
   ]
  },
  {
   "cell_type": "code",
   "execution_count": 12,
   "metadata": {},
   "outputs": [
    {
     "name": "stdout",
     "output_type": "stream",
     "text": [
      "The product sold in the most orders has been sold 2 times.\n"
     ]
    }
   ],
   "source": [
    "max_sales = sales.groupBy(\"product_id\").count().sort(\"count\", ascending = False).first()[1]\n",
    "print (\"The product sold in the most orders has been sold\", max_sales, \"times.\")"
   ]
  },
  {
   "cell_type": "markdown",
   "metadata": {},
   "source": [
    "In the following query we can see the most frequent products among all orders"
   ]
  },
  {
   "cell_type": "code",
   "execution_count": 13,
   "metadata": {},
   "outputs": [
    {
     "name": "stdout",
     "output_type": "stream",
     "text": [
      "+----------+-----+\n",
      "|product_id|count|\n",
      "+----------+-----+\n",
      "|      2999|    2|\n",
      "|     20913|    2|\n",
      "|     72638|    2|\n",
      "|     30418|    2|\n",
      "|     91069|    2|\n",
      "|     62258|    2|\n",
      "|     42883|    2|\n",
      "|     22297|    2|\n",
      "|     71771|    2|\n",
      "|     81906|    2|\n",
      "|     75721|    2|\n",
      "|     96545|    2|\n",
      "+----------+-----+\n",
      "\n"
     ]
    }
   ],
   "source": [
    "sales.groupBy(\"product_id\").count().where(col(\"count\") == max_sales).show()"
   ]
  }
 ],
 "metadata": {
  "kernelspec": {
   "display_name": "Python 3",
   "language": "python",
   "name": "python3"
  },
  "language_info": {
   "codemirror_mode": {
    "name": "ipython",
    "version": 3
   },
   "file_extension": ".py",
   "mimetype": "text/x-python",
   "name": "python",
   "nbconvert_exporter": "python",
   "pygments_lexer": "ipython3",
   "version": "3.10.10"
  }
 },
 "nbformat": 4,
 "nbformat_minor": 2
}
