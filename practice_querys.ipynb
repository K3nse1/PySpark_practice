{
 "cells": [
  {
   "cell_type": "markdown",
   "metadata": {},
   "source": [
    "#### In this project, we'll use synthetic data about sales with the purpose of practicing some PySpark."
   ]
  },
  {
   "cell_type": "code",
   "execution_count": 47,
   "metadata": {},
   "outputs": [],
   "source": [
    "import findspark\n",
    "from pyspark.sql import SparkSession\n",
    "from pyspark.sql.types import *\n",
    "from pyspark.sql.functions import sum, col, avg, first, round, concat, format_string, lit, when, cast, month\n",
    "import json"
   ]
  },
  {
   "cell_type": "code",
   "execution_count": 24,
   "metadata": {},
   "outputs": [],
   "source": [
    "findspark.init()"
   ]
  },
  {
   "cell_type": "code",
   "execution_count": 25,
   "metadata": {},
   "outputs": [],
   "source": [
    "spark = SparkSession.builder.getOrCreate()"
   ]
  },
  {
   "cell_type": "code",
   "execution_count": 26,
   "metadata": {},
   "outputs": [],
   "source": [
    "with open (\"config.json\", \"r\") as config_file:\n",
    "    config_data = json.load(config_file)\n",
    "\n",
    "path_products = config_data[\"csv_paths\"][\"path_products\"]\n",
    "path_sales = config_data[\"csv_paths\"][\"path_sales\"]\n",
    "path_sellers = config_data[\"csv_paths\"][\"path_sellers\"]\n",
    "path_result = config_data[\"csv_paths\"][\"path_result\"] # At the end of the notebook, we'll perform a small ETL that we'll save in this path"
   ]
  },
  {
   "cell_type": "code",
   "execution_count": 27,
   "metadata": {},
   "outputs": [
    {
     "name": "stdout",
     "output_type": "stream",
     "text": [
      "root\n",
      " |-- product_id: integer (nullable = true)\n",
      " |-- product_name: string (nullable = true)\n",
      " |-- price: integer (nullable = true)\n",
      "\n"
     ]
    }
   ],
   "source": [
    "products_schema = StructType ([\n",
    "    StructField (\"product_id\", IntegerType()),\n",
    "    StructField (\"product_name\", StringType()),\n",
    "    StructField (\"price\", IntegerType())\n",
    "])\n",
    "products = spark.read.options(header=True,delimiter=\",\").schema(products_schema).csv(path_products)\n",
    "\n",
    "products.printSchema()"
   ]
  },
  {
   "cell_type": "code",
   "execution_count": 28,
   "metadata": {},
   "outputs": [
    {
     "name": "stdout",
     "output_type": "stream",
     "text": [
      "root\n",
      " |-- order_id: integer (nullable = true)\n",
      " |-- product_id: integer (nullable = true)\n",
      " |-- seller_id: integer (nullable = true)\n",
      " |-- date: date (nullable = true)\n",
      " |-- num_pieces_sold: integer (nullable = true)\n",
      " |-- bill_raw_text: string (nullable = true)\n",
      " |-- product_id_num: integer (nullable = true)\n",
      "\n"
     ]
    }
   ],
   "source": [
    "sales_schema = StructType ([\n",
    "    StructField (\"order_id\", IntegerType()),\n",
    "    StructField (\"product_id\", IntegerType()),\n",
    "    StructField (\"seller_id\", IntegerType()),\n",
    "    StructField (\"date\", DateType()),\n",
    "    StructField (\"num_pieces_sold\", IntegerType()),\n",
    "    StructField (\"bill_raw_text\", StringType()),\n",
    "    StructField (\"product_id_num\", IntegerType())\n",
    "])\n",
    "\n",
    "sales = spark.read.options(header=True,delimiter=\",\").schema(sales_schema).csv(path_sales)\n",
    "\n",
    "sales.printSchema()"
   ]
  },
  {
   "cell_type": "code",
   "execution_count": 29,
   "metadata": {},
   "outputs": [
    {
     "name": "stdout",
     "output_type": "stream",
     "text": [
      "root\n",
      " |-- seller_id: integer (nullable = true)\n",
      " |-- seller_name: string (nullable = true)\n",
      " |-- daily_target: integer (nullable = true)\n",
      "\n"
     ]
    }
   ],
   "source": [
    "sellers_schema = StructType ([\n",
    "    StructField (\"seller_id\", IntegerType()),\n",
    "    StructField (\"seller_name\", StringType()),\n",
    "    StructField (\"daily_target\", IntegerType())\n",
    "])\n",
    "sellers = spark.read.options(header=True,delimiter=\",\").schema(sellers_schema).csv(path_sellers)\n",
    "\n",
    "sellers.printSchema()"
   ]
  },
  {
   "cell_type": "markdown",
   "metadata": {},
   "source": [
    "#### We'll load the three datasets and show the first 5 columns of each one"
   ]
  },
  {
   "cell_type": "code",
   "execution_count": 30,
   "metadata": {},
   "outputs": [
    {
     "name": "stdout",
     "output_type": "stream",
     "text": [
      "+----------+------------+-----+\n",
      "|product_id|product_name|price|\n",
      "+----------+------------+-----+\n",
      "|         0|   product_0|   22|\n",
      "|         1|   product_1|   30|\n",
      "|         2|   product_2|   91|\n",
      "|         3|   product_3|   37|\n",
      "|         4|   product_4|  145|\n",
      "+----------+------------+-----+\n",
      "only showing top 5 rows\n",
      "\n",
      "+--------+----------+---------+----------+---------------+--------------------+--------------+\n",
      "|order_id|product_id|seller_id|      date|num_pieces_sold|       bill_raw_text|product_id_num|\n",
      "+--------+----------+---------+----------+---------------+--------------------+--------------+\n",
      "| 2998575|     39495|        8|2020-07-09|             69|cbgztjphaqxaolwgd...|         39495|\n",
      "| 3981313|     35340|        9|2020-07-04|             47|nedrhdkrndwhonulx...|         35340|\n",
      "| 3992645|     11870|        6|2020-07-08|             66|pjjfnblolzqdzzxbj...|         11870|\n",
      "| 6475605|      7915|        8|2020-07-03|             12|wmsofzpxwlyhorqwf...|          7915|\n",
      "|12492936|     85210|        3|2020-07-06|             48|yhwycrofhmoetzMul...|         85210|\n",
      "+--------+----------+---------+----------+---------------+--------------------+--------------+\n",
      "only showing top 5 rows\n",
      "\n",
      "+---------+-----------+------------+\n",
      "|seller_id|seller_name|daily_target|\n",
      "+---------+-----------+------------+\n",
      "|        0|   seller_0|     2500000|\n",
      "|        1|   seller_1|      257237|\n",
      "|        2|   seller_2|      754188|\n",
      "|        3|   seller_3|      310462|\n",
      "|        4|   seller_4|     1532808|\n",
      "+---------+-----------+------------+\n",
      "only showing top 5 rows\n",
      "\n"
     ]
    }
   ],
   "source": [
    "products.show(5)\n",
    "sales.show(5)\n",
    "sellers.show(5)"
   ]
  },
  {
   "cell_type": "markdown",
   "metadata": {},
   "source": [
    "#### How many products, sales and sellers are there in total?"
   ]
  },
  {
   "cell_type": "markdown",
   "metadata": {},
   "source": [
    "Total of products and sellers is trivial, but in one sale there can be more than one product. With the purpose of counting the total amount of sales, we'll sum the number of pieces sold"
   ]
  },
  {
   "cell_type": "code",
   "execution_count": 31,
   "metadata": {},
   "outputs": [],
   "source": [
    "total_sales = sales.select(sum(sales.num_pieces_sold)).first()[0]"
   ]
  },
  {
   "cell_type": "code",
   "execution_count": 32,
   "metadata": {},
   "outputs": [
    {
     "name": "stdout",
     "output_type": "stream",
     "text": [
      "Products: 100000\n",
      "Sales: 71194\n",
      "Sellers: 10\n"
     ]
    }
   ],
   "source": [
    "print (\"Products:\", products.count())\n",
    "print (\"Sales:\", total_sales)\n",
    "print (\"Sellers:\", sellers.count())"
   ]
  },
  {
   "cell_type": "markdown",
   "metadata": {},
   "source": [
    "#### How many products have been sold at least once?"
   ]
  },
  {
   "cell_type": "code",
   "execution_count": 33,
   "metadata": {},
   "outputs": [
    {
     "data": {
      "text/plain": [
       "1376"
      ]
     },
     "execution_count": 33,
     "metadata": {},
     "output_type": "execute_result"
    }
   ],
   "source": [
    "sales.select(\"product_id\").distinct().count()"
   ]
  },
  {
   "cell_type": "markdown",
   "metadata": {},
   "source": [
    "#### Which product has been sold in more orders?"
   ]
  },
  {
   "cell_type": "code",
   "execution_count": 34,
   "metadata": {},
   "outputs": [
    {
     "name": "stdout",
     "output_type": "stream",
     "text": [
      "The product sold in the most orders has been sold 2 times.\n"
     ]
    }
   ],
   "source": [
    "max_sales = (\n",
    "    sales.groupBy(\"product_id\")\n",
    "    .count()\n",
    "    .sort(\"count\", ascending = False)\n",
    "    .first()[1]\n",
    ")\n",
    "print (\"The product sold in the most orders has been sold\", max_sales, \"times.\")"
   ]
  },
  {
   "cell_type": "markdown",
   "metadata": {},
   "source": [
    "In the following query we can see the most frequent products among all orders"
   ]
  },
  {
   "cell_type": "code",
   "execution_count": 35,
   "metadata": {},
   "outputs": [
    {
     "name": "stdout",
     "output_type": "stream",
     "text": [
      "+----------+-----+\n",
      "|product_id|count|\n",
      "+----------+-----+\n",
      "|      2999|    2|\n",
      "|     20913|    2|\n",
      "|     72638|    2|\n",
      "|     30418|    2|\n",
      "|     91069|    2|\n",
      "|     62258|    2|\n",
      "|     42883|    2|\n",
      "|     22297|    2|\n",
      "|     71771|    2|\n",
      "|     81906|    2|\n",
      "|     75721|    2|\n",
      "|     96545|    2|\n",
      "+----------+-----+\n",
      "\n"
     ]
    }
   ],
   "source": [
    "(\n",
    "    sales.groupBy(\"product_id\")\n",
    "    .count()\n",
    "    .where(col(\"count\") == max_sales)\n",
    "    .show()\n",
    ")"
   ]
  },
  {
   "cell_type": "markdown",
   "metadata": {},
   "source": [
    "#### How many different products have been sold each day?"
   ]
  },
  {
   "cell_type": "code",
   "execution_count": 36,
   "metadata": {},
   "outputs": [
    {
     "name": "stdout",
     "output_type": "stream",
     "text": [
      "+----------+-----+\n",
      "|      date|count|\n",
      "+----------+-----+\n",
      "|2020-07-01|  142|\n",
      "|2020-07-02|  132|\n",
      "|2020-07-03|  159|\n",
      "|2020-07-04|  147|\n",
      "|2020-07-05|  142|\n",
      "|2020-07-06|  145|\n",
      "|2020-07-07|  123|\n",
      "|2020-07-08|  114|\n",
      "|2020-07-09|  146|\n",
      "|2020-07-10|  138|\n",
      "+----------+-----+\n",
      "\n"
     ]
    }
   ],
   "source": [
    "(\n",
    "    sales.select(\"product_id\", \"date\")\n",
    "    .distinct()\n",
    "    .groupBy(\"date\")\n",
    "    .count()\n",
    "    .sort(\"date\", ascending = True)\n",
    "    .show()\n",
    ")"
   ]
  },
  {
   "cell_type": "markdown",
   "metadata": {},
   "source": [
    "#### How much is the average expense per order?"
   ]
  },
  {
   "cell_type": "code",
   "execution_count": 37,
   "metadata": {},
   "outputs": [
    {
     "name": "stdout",
     "output_type": "stream",
     "text": [
      "Average cost of a order is 3916.516570605187\n"
     ]
    }
   ],
   "source": [
    "avg_order_cost = (\n",
    "    sales.join(products, sales.product_id == products.product_id, \"inner\")\n",
    "    .withColumn(\"cost\", col(\"num_pieces_sold\") * col(\"price\"))\n",
    "    .select(\"order_id\",\"cost\")\n",
    "    .agg({\"cost\": 'avg'}).first()[0]\n",
    ")\n",
    "print ('Average cost of a order is', avg_order_cost)"
   ]
  },
  {
   "cell_type": "markdown",
   "metadata": {},
   "source": [
    "#### We'll calculate the average percentage that a sales order contributes to the quota of each seller"
   ]
  },
  {
   "cell_type": "code",
   "execution_count": 38,
   "metadata": {},
   "outputs": [
    {
     "name": "stdout",
     "output_type": "stream",
     "text": [
      "+---------+------+\n",
      "|seller_id| quota|\n",
      "+---------+------+\n",
      "|        1|0.0189|\n",
      "|        2|0.0069|\n",
      "|        3|0.0168|\n",
      "|        4|0.0035|\n",
      "|        5|0.0041|\n",
      "|        6|0.0048|\n",
      "|        7|0.0029|\n",
      "|        8|0.0094|\n",
      "|        9|0.0036|\n",
      "+---------+------+\n",
      "\n"
     ]
    }
   ],
   "source": [
    "(\n",
    "    sales.join(sellers, sales.seller_id == sellers.seller_id, \"inner\")\n",
    "    .withColumn(\"quota_per_order\", col(\"num_pieces_sold\") / col(\"daily_target\") * 100)\n",
    "    .groupBy(sales.seller_id)\n",
    "    .agg(round(avg('quota_per_order'),4).alias('quota'))\n",
    "    .sort(sales.seller_id, ascending=True)\n",
    "    .show()\n",
    ")"
   ]
  },
  {
   "cell_type": "markdown",
   "metadata": {},
   "source": [
    "#### We'll calculate the total sold"
   ]
  },
  {
   "cell_type": "code",
   "execution_count": 39,
   "metadata": {},
   "outputs": [
    {
     "name": "stdout",
     "output_type": "stream",
     "text": [
      "The total sold is 5436125\n"
     ]
    }
   ],
   "source": [
    "total_spent = (\n",
    "    sales.join(products, sales.product_id == products.product_id)\n",
    "    .withColumn(\"spend_per_order\", col('price') * col('num_pieces_sold'))\n",
    "    .select(sum(\"spend_per_order\"))\n",
    "    .first()[0]\n",
    ")\n",
    "print (\"The total sold is\", total_spent)"
   ]
  },
  {
   "cell_type": "markdown",
   "metadata": {},
   "source": [
    "Now we'll check the total sold by seller "
   ]
  },
  {
   "cell_type": "code",
   "execution_count": 40,
   "metadata": {},
   "outputs": [
    {
     "name": "stdout",
     "output_type": "stream",
     "text": [
      "+---------+----------------+\n",
      "|seller_id|spend_per_seller|\n",
      "+---------+----------------+\n",
      "|        7|          775363|\n",
      "|        5|          646894|\n",
      "|        8|          627624|\n",
      "|        2|          624802|\n",
      "|        3|          620734|\n",
      "|        4|          567151|\n",
      "|        1|          561092|\n",
      "|        9|          534637|\n",
      "|        6|          477828|\n",
      "+---------+----------------+\n",
      "\n"
     ]
    }
   ],
   "source": [
    "(\n",
    "    sales.join(products, sales.product_id == products.product_id)\n",
    "    .withColumn(\"spend_per_order\", col('price') * col('num_pieces_sold'))\n",
    "    .groupBy('seller_id')\n",
    "    .agg(first('spend_per_order')\n",
    "        .alias('spend_per_order'),sum('spend_per_order').alias('spend_per_seller'))\n",
    "    .select('seller_id', 'spend_per_seller')\n",
    "    .sort('spend_per_seller', ascending=False)\n",
    "    .show()\n",
    ")"
   ]
  },
  {
   "cell_type": "markdown",
   "metadata": {},
   "source": [
    "In the following cell, we can see that every sale was made in July."
   ]
  },
  {
   "cell_type": "code",
   "execution_count": 51,
   "metadata": {},
   "outputs": [
    {
     "name": "stdout",
     "output_type": "stream",
     "text": [
      "1388 1388\n"
     ]
    }
   ],
   "source": [
    "print (sales.filter((month(col(\"date\")) == 7)).count(), \n",
    "       sales.count())"
   ]
  },
  {
   "cell_type": "markdown",
   "metadata": {},
   "source": [
    "Finally, we'll perform a small ETL process to join the three datasets, adding some additional information that might be useful in a real case. After that, we'll save the new dataset as CSV in the 'result' folder."
   ]
  },
  {
   "cell_type": "code",
   "execution_count": 42,
   "metadata": {},
   "outputs": [
    {
     "name": "stdout",
     "output_type": "stream",
     "text": [
      "+----------+------------+--------+----------+----------+------------+--------------------+------+--------------+\n",
      "|product_id|product_name|order_id|      date|    seller|daily_target|        sales target|income|highlited sale|\n",
      "+----------+------------+--------+----------+----------+------------+--------------------+------+--------------+\n",
      "|       141| product_141|  483979|2020-07-07|7_seller_7|     1946998|0.001027222421389...|  2060|             N|\n",
      "|       170| product_170| 6978441|2020-07-06|8_seller_8|      547320|0.012972301395892713|  7668|             Y|\n",
      "|       188| product_188|  481134|2020-07-07|5_seller_5|     1199693|0.003750959620502...|  4680|             Y|\n",
      "|       189| product_189| 2994023|2020-07-03|2_seller_2|      754188|0.011402992357343262|  9288|             Y|\n",
      "|       369| product_369|10480295|2020-07-03|6_seller_6|     1055915|0.002083501039382905|   528|             N|\n",
      "|       442| product_442|12479439|2020-07-05|3_seller_3|      310462|0.015138728733307134|  1222|             N|\n",
      "|       452| product_452| 4488988|2020-07-01|3_seller_3|      310462|0.014172426899266254|  4620|             Y|\n",
      "|       534| product_534|14489211|2020-07-05|8_seller_8|      547320|0.009318131988598991|  7344|             Y|\n",
      "|       707| product_707| 5485676|2020-07-03|2_seller_2|      754188|0.005834089113059343|  5412|             Y|\n",
      "|       712| product_712| 1475177|2020-07-07|8_seller_8|      547320| 0.01827084703646861|  4600|             Y|\n",
      "|       765| product_765|19977925|2020-07-09|7_seller_7|     1946998|0.004776584259459948|  2139|             N|\n",
      "|       816| product_816|14498604|2020-07-09|5_seller_5|     1199693|0.007751983215706018|  3906|             N|\n",
      "|       888| product_888| 1976134|2020-07-04|6_seller_6|     1055915|0.002178205632082128|  1771|             N|\n",
      "|       907| product_907| 5480854|2020-07-08|8_seller_8|      547320|0.012058759044069283|  5676|             Y|\n",
      "|      1037|product_1037|16489317|2020-07-05|8_seller_8|      547320| 0.01077979975151648|  4779|             Y|\n",
      "|      1044|product_1044| 8976033|2020-07-04|5_seller_5|     1199693|0.007335209924539...| 10120|             Y|\n",
      "|      1216|product_1216| 7491127|2020-07-09|3_seller_3|      310462|0.014816628121960175|   782|             N|\n",
      "|      1368|product_1368|16498017|2020-07-08|8_seller_8|      547320|0.012058759044069283|  3762|             N|\n",
      "|      1387|product_1387| 2995807|2020-07-02|4_seller_4|     1532808|0.003392466636395426|  7800|             Y|\n",
      "|      1513|product_1513|14999109|2020-07-04|4_seller_4|     1532808|0.002087671776243339|  3872|             N|\n",
      "+----------+------------+--------+----------+----------+------------+--------------------+------+--------------+\n",
      "only showing top 20 rows\n",
      "\n"
     ]
    }
   ],
   "source": [
    "df_joined = (products.join(sales, products.product_id == sales.product_id)\n",
    "             .join(sellers, sellers.seller_id == sales.seller_id)\n",
    "             .withColumn('income', col('num_pieces_sold') * col('price'))\n",
    "             )\n",
    "\n",
    "avg_income = df_joined.select(avg('income')).collect()[0][0]\n",
    "\n",
    "df_joined = df_joined.select(\n",
    "    sales.product_id,\n",
    "    products.product_name,\n",
    "    sales.order_id,\n",
    "    sales.date,\n",
    "    concat(sales.seller_id, lit('_'), sellers.seller_name).alias('seller'),\n",
    "    sellers.daily_target,\n",
    "    (col('num_pieces_sold') / col('daily_target') * lit(100)).alias('sales target'),\n",
    "    col('income'),\n",
    "    (when(col('income') > avg_income, 'Y').otherwise('N').alias('highlited sale'))\n",
    ")\n",
    "df_joined.show()"
   ]
  },
  {
   "cell_type": "code",
   "execution_count": 43,
   "metadata": {},
   "outputs": [],
   "source": [
    "df_joined_csv = (df_joined.write.options (header=True, delimiter=',')\n",
    "                 .mode('overwrite')\n",
    "                 .csv(path_result)\n",
    ")"
   ]
  }
 ],
 "metadata": {
  "kernelspec": {
   "display_name": "Python 3",
   "language": "python",
   "name": "python3"
  },
  "language_info": {
   "codemirror_mode": {
    "name": "ipython",
    "version": 3
   },
   "file_extension": ".py",
   "mimetype": "text/x-python",
   "name": "python",
   "nbconvert_exporter": "python",
   "pygments_lexer": "ipython3",
   "version": "3.10.10"
  }
 },
 "nbformat": 4,
 "nbformat_minor": 2
}
